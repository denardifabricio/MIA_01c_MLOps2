{
 "cells": [
  {
   "cell_type": "markdown",
   "metadata": {},
   "source": [
    "## Ejecutar el DAG creado"
   ]
  },
  {
   "cell_type": "code",
   "execution_count": 82,
   "metadata": {},
   "outputs": [
    {
     "name": "stdout",
     "output_type": "stream",
     "text": [
      "DAG 'etl' activado correctamente.\n",
      "DAG 'etl' ejecutado correctamente.\n"
     ]
    }
   ],
   "source": [
    "import requests\n",
    "from requests.auth import HTTPBasicAuth\n",
    "\n",
    "# Configura la URL de la API de Airflow y las credenciales\n",
    "airflow_url = \"http://localhost:8080/api/v1\"\n",
    "dag_id = \"etl\"\n",
    "auth = HTTPBasicAuth('airflow', 'airflow')\n",
    "\n",
    "# Despausar el DAG\n",
    "unpause_dag_url = f\"{airflow_url}/dags/{dag_id}\"\n",
    "response = requests.patch(unpause_dag_url, json={\"is_paused\": False}, auth=auth)\n",
    "\n",
    "if response.status_code == 200:\n",
    "    print(f\"DAG '{dag_id}' activado correctamente.\")\n",
    "else:\n",
    "    print(f\"Error al activar el DAG: {response.text}\")\n",
    "\n",
    "# Ejecutar el DAG manualmente\n",
    "trigger_dag_url = f\"{airflow_url}/dags/{dag_id}/dagRuns\"\n",
    "response = requests.post(trigger_dag_url, json={}, auth=auth)\n",
    "\n",
    "if response.status_code == 200:\n",
    "    print(f\"DAG '{dag_id}' ejecutado correctamente.\")\n",
    "else:\n",
    "    print(f\"Error al ejecutar el DAG: {response.text}\")"
   ]
  },
  {
   "cell_type": "markdown",
   "metadata": {},
   "source": [
    "Se recomienda esperar un minuto para que el DAG pueda terminar de ejecutarse."
   ]
  },
  {
   "cell_type": "markdown",
   "metadata": {},
   "source": [
    "## MODELO TP1 para MLFLOW"
   ]
  },
  {
   "cell_type": "markdown",
   "metadata": {},
   "source": [
    "### Librerias"
   ]
  },
  {
   "cell_type": "code",
   "execution_count": 83,
   "metadata": {},
   "outputs": [],
   "source": [
    "import os\n",
    "import pandas as pd\n",
    "import numpy as np\n",
    "import matplotlib.pyplot as plt\n",
    "import xgboost as xgb\n",
    "import datetime\n",
    "import mlflow\n",
    "from mlflow.tracking import MlflowClient\n",
    "\n",
    "from sqlalchemy import create_engine\n",
    "from sklearn.metrics import mean_absolute_error, mean_squared_error, r2_score\n",
    "\n",
    "import boto3\n",
    "from botocore.client import Config\n",
    "\n"
   ]
  },
  {
   "cell_type": "markdown",
   "metadata": {},
   "source": [
    "### Variables de entorno y conexión con MlFlow"
   ]
  },
  {
   "cell_type": "code",
   "execution_count": 84,
   "metadata": {},
   "outputs": [],
   "source": [
    "os.environ['AWS_ACCESS_KEY_ID'] = 'minio'\n",
    "os.environ['AWS_SECRET_ACCESS_KEY'] = 'minio123'\n",
    "os.environ['ENDPOINT_URL'] = 'http://localhost:9001'\n",
    "os.environ[\"MLFLOW_S3_ENDPOINT_URL\"] = 'http://localhost:9000'\n",
    "os.environ[\"AWS_ENDPOINT_URL_S3\"] = 'http://localhost:9001'\n",
    "\n",
    "#mlflow.end_run()\n",
    "mlflow.set_tracking_uri('http://localhost:5005')\n",
    "\n",
    "experiment_name = \"precio_propiedades_model_experiment\"\n",
    "\n",
    "if not mlflow.get_experiment_by_name(experiment_name):\n",
    "    mlflow.create_experiment(name=experiment_name)\n",
    "\n",
    "experiment = mlflow.get_experiment_by_name(experiment_name)\n",
    "\n",
    "# Obtener las variables de entorno (puedes ajustarlas según sea necesario)\n",
    "pg_user = os.getenv('PG_USER', 'airflow')\n",
    "pg_password = os.getenv('PG_PASSWORD', 'airflow')\n",
    "pg_host = 'localhost'  # Si estás ejecutando el script desde dentro del contenedor, usa 'postgres'\n",
    "pg_port = os.getenv('PG_PORT', '5432')\n",
    "pg_database = os.getenv('PG_DATABASE', 'airflow')\n",
    "\n",
    "db_url = f'postgresql+psycopg2://{pg_user}:{pg_password}@{pg_host}:{pg_port}/{pg_database}'\n",
    "\n",
    "# Crear la conexión con SQLAlchemy\n",
    "engine = create_engine(db_url)"
   ]
  },
  {
   "cell_type": "markdown",
   "metadata": {},
   "source": [
    "### Lectura de DB\n",
    "\n",
    "Obtengo de la DB Postgre el dataset de entrenamiento-testeo ya procesado y escalado desde Airflow"
   ]
  },
  {
   "cell_type": "code",
   "execution_count": 85,
   "metadata": {},
   "outputs": [],
   "source": [
    "# Leer los datos para entrenar el modelo\n",
    "query = 'SELECT * FROM public.\"X_train_scaled\";'\n",
    "X_train = pd.read_sql(query, engine)\n",
    "X_train[X_train.select_dtypes(['bool']).columns] = X_train.select_dtypes(['bool']).astype(int)\n",
    "\n",
    "query = 'SELECT * FROM public.\"X_test_scaled\";'\n",
    "X_test = pd.read_sql(query, engine)\n",
    "X_test[X_test.select_dtypes(['bool']).columns] = X_test.select_dtypes(['bool']).astype(int)\n",
    "\n",
    "query = 'SELECT * FROM public.\"y_train_scaled\";'\n",
    "y_train = pd.read_sql(query, engine)\n",
    "y_train[y_train.select_dtypes(['bool']).columns] = y_train.select_dtypes(['bool']).astype(int)\n",
    "\n",
    "query = 'SELECT * FROM public.\"y_test_scaled\";'\n",
    "y_test = pd.read_sql(query, engine)\n",
    "y_test[y_test.select_dtypes(['bool']).columns] = y_test.select_dtypes(['bool']).astype(int)"
   ]
  },
  {
   "cell_type": "markdown",
   "metadata": {},
   "source": [
    "### Elección y entrenamiento de Modelo\n",
    "USamos Regresor XGBOOST del TP1. Cargamos el expermiento en ML con la carga del modelo como artefacto, las métricas asociadas y el gráfico de featrues con mayor importancia"
   ]
  },
  {
   "cell_type": "code",
   "execution_count": 86,
   "metadata": {},
   "outputs": [],
   "source": [
    "\n",
    "def get_or_create_experiment(experiment_name):\n",
    "    \"\"\"\n",
    "    Retrieve the ID of an existing MLflow experiment or create a new one if it doesn't exist.\n",
    "\n",
    "    This function checks if an experiment with the given name exists within MLflow.\n",
    "    If it does, the function returns its ID. If not, it creates a new experiment\n",
    "    with the provided name and returns its ID.\n",
    "\n",
    "    Parameters:\n",
    "    - experiment_name (str): Name of the MLflow experiment.\n",
    "\n",
    "    Returns:\n",
    "    - str: ID of the existing or newly created MLflow experiment.\n",
    "    \"\"\"\n",
    "\n",
    "    if experiment := mlflow.get_experiment_by_name(experiment_name):\n",
    "        return experiment.experiment_id\n",
    "    else:\n",
    "        return mlflow.create_experiment(experiment_name)"
   ]
  },
  {
   "cell_type": "code",
   "execution_count": 87,
   "metadata": {},
   "outputs": [
    {
     "name": "stdout",
     "output_type": "stream",
     "text": [
      "2\n"
     ]
    }
   ],
   "source": [
    "# Creemos el experimento\n",
    "experiment_id = get_or_create_experiment(\"Precio Propiedades\")\n",
    "print(experiment_id)\n",
    "\n",
    "run_name_parent = \"best_hyperparam_\"  + datetime.datetime.today().strftime('%Y/%m/%d-%H:%M:%S\"')"
   ]
  },
  {
   "cell_type": "code",
   "execution_count": 88,
   "metadata": {},
   "outputs": [
    {
     "name": "stdout",
     "output_type": "stream",
     "text": [
      "<class 'pandas.core.frame.DataFrame'>\n",
      "RangeIndex: 8154 entries, 0 to 8153\n",
      "Data columns (total 8 columns):\n",
      " #   Column           Non-Null Count  Dtype  \n",
      "---  ------           --------------  -----  \n",
      " 0   expenses_amount  8154 non-null   float64\n",
      " 1   total_mts        8154 non-null   float64\n",
      " 2   covered_mts      8154 non-null   float64\n",
      " 3   rooms            8154 non-null   float64\n",
      " 4   bedrooms         8154 non-null   float64\n",
      " 5   bathrooms        8154 non-null   float64\n",
      " 6   garages          8154 non-null   float64\n",
      " 7   antique          8154 non-null   float64\n",
      "dtypes: float64(8)\n",
      "memory usage: 509.8 KB\n",
      "None\n",
      "\n",
      "Desempeño en el conjunto de prueba:\n",
      "MAE: 0.3302090861391858\n",
      "MSE: 0.27860693809655074\n",
      "RMSE: 0.5278323011113953\n",
      "R²: 0.7241861820220947\n"
     ]
    },
    {
     "name": "stderr",
     "output_type": "stream",
     "text": [
      "2025/08/09 12:23:56 WARNING mlflow.models.model: `artifact_path` is deprecated. Please use `name` instead.\n",
      "\u001b[31m2025/08/09 12:23:58 WARNING mlflow.models.model: Model logged without a signature and input example. Please set `input_example` parameter when logging the model to auto infer the model signature.\u001b[0m\n",
      "Registered model 'precio_propiedades_model_dev' already exists. Creating a new version of this model...\n",
      "2025/08/09 12:23:58 INFO mlflow.store.model_registry.abstract_store: Waiting up to 300 seconds for model version to finish creation. Model name: precio_propiedades_model_dev, version 3\n",
      "Created version '3' of model 'precio_propiedades_model_dev'.\n"
     ]
    },
    {
     "name": "stdout",
     "output_type": "stream",
     "text": [
      "🏃 View run nimble-hog-675 at: http://localhost:5005/#/experiments/1/runs/9cccee1281514c738880fa99a9497ba3\n",
      "🧪 View experiment at: http://localhost:5005/#/experiments/1\n",
      "Finalizado\n"
     ]
    },
    {
     "data": {
      "image/png": "[encoded data removed]",
      "text/plain": [
       "<Figure size 1000x1000 with 1 Axes>"
      ]
     },
     "metadata": {},
     "output_type": "display_data"
    }
   ],
   "source": [
    "xgb_regressor = xgb.XGBRegressor(objective='reg:squarederror', random_state=42, n_jobs=-1, enable_categorical=True)\n",
    "print(X_train.info())\n",
    "xgb_regressor.fit(X_train, y_train)\n",
    "\n",
    "artifact_path='xgb_model'\n",
    "model_uri = \"\"\n",
    "model_version = 1\n",
    "\n",
    "with mlflow.start_run(experiment_id = experiment.experiment_id):\n",
    "    # Se registran los mejores hiperparámetros\n",
    "    mlflow.log_params(xgb_regressor.get_params())\n",
    "    \n",
    "    # Se obtiene las predicciones del dataset de evaluación\n",
    "    y_pred = xgb_regressor.predict(X_test)\n",
    "    # y_test_inversed = scaler_y.inverse_transform(y_test)\n",
    "    # y_pred_inversed = scaler_y.inverse_transform(y_pred.reshape(-1, 1))\n",
    "    \n",
    "    # Se calculan las métricas\n",
    "    mae = mean_absolute_error(y_test, y_pred)\n",
    "    mse = mean_squared_error(y_test, y_pred)\n",
    "    rmse = np.sqrt(mean_squared_error(y_test, y_pred))\n",
    "    r2 = r2_score(y_test, y_pred)\n",
    "    print(\"\\nDesempeño en el conjunto de prueba:\")\n",
    "    print(f\"MAE: {mae}\")\n",
    "    print(f\"MSE: {mse}\")\n",
    "    print(f\"RMSE: {rmse}\")\n",
    "    print(f\"R²: {r2}\")\n",
    "    \n",
    "    # Y las enviamos a MLFlow\n",
    "    metrics ={\n",
    "        'mae': mae,\n",
    "        'mse': mse, \n",
    "        'rmse': rmse,\n",
    "        'r2': r2\n",
    "        }\n",
    "    mlflow.log_metrics(metrics)\n",
    "    # Obtenemos la importancia de características\n",
    "    feature_importances = xgb_regressor.feature_importances_\n",
    "    feature_names = X_train.columns  # Excluir la columna objetivo\n",
    "\n",
    "    # Ordenamos los índices\n",
    "    sorted_idx = feature_importances.argsort()\n",
    "\n",
    "    plt.figure(figsize=(10, 10))\n",
    "    plt.barh(range(len(sorted_idx)), feature_importances[sorted_idx], align='center')\n",
    "    plt.yticks(range(len(sorted_idx)), [feature_names[i] for i in sorted_idx])\n",
    "    plt.xlabel('Feature Importance')\n",
    "\n",
    "    # Guardar el gráfico en un archivo temporal\n",
    "    plot_filename = 'feature_importances.png'\n",
    "    plt.savefig(plot_filename)\n",
    "\n",
    "    # Registrar el gráfico en MLflow\n",
    "    mlflow.log_figure(plt.gcf(), artifact_file=\"feature_importances.png\")\n",
    "\n",
    "\n",
    "    # Registramos el modelo y los datos de entrenamiento\n",
    "    mlflow.sklearn.log_model(\n",
    "            sk_model=xgb_regressor,\n",
    "            artifact_path=artifact_path,\n",
    "            serialization_format='cloudpickle',\n",
    "            registered_model_name=\"precio_propiedades_model_dev\",\n",
    "            metadata={\"model_data_version\": model_version}\n",
    "            )\n",
    "\n",
    "   \n",
    "    # Obtenemos la ubicación del modelo guardado en MLFlow\n",
    "    model_uri = mlflow.get_artifact_uri(artifact_path)\n",
    "\n",
    "\n",
    "print('Finalizado')"
   ]
  },
  {
   "cell_type": "code",
   "execution_count": 89,
   "metadata": {},
   "outputs": [
    {
     "name": "stderr",
     "output_type": "stream",
     "text": [
      "2025/08/09 12:23:58 INFO mlflow.store.model_registry.abstract_store: Waiting up to 300 seconds for model version to finish creation. Model name: precio_propiedades_model_prod, version 3\n"
     ]
    }
   ],
   "source": [
    "from mlflow import MlflowClient\n",
    "\n",
    "client = MlflowClient()\n",
    "name = \"precio_propiedades_model_prod\"\n",
    "desc = \"Predice el precio de propiedades en CABA\"\n",
    "\n",
    "# Creamos el modelo productivo\n",
    "# Chequear si el modelo ya está registrado\n",
    "registered_models = client.search_registered_models(f\"name='{name}'\")\n",
    "\n",
    "if not registered_models:\n",
    "    client.create_registered_model(name=name, description=desc)\n",
    "\n",
    "\n",
    "\n",
    "# Guardamos como tag los hiper-parametros en la version del modelo\n",
    "tags = xgb_regressor.get_params()\n",
    "tags[\"model\"] = type(xgb_regressor).__name__\n",
    "tags[\"mae\"] = mae\n",
    "tags[\"mse\"] = mse\n",
    "tags[\"rmse\"] = rmse\n",
    "tags[\"r2\"] = r2\n",
    "\n",
    "# Guardamos la version del modelo\n",
    "result = client.create_model_version(\n",
    "    name=name,\n",
    "    source=model_uri,\n",
    "    run_id=model_uri.split(\"/\")[-3],\n",
    "    tags=tags\n",
    ")\n",
    "\n",
    "# Y creamos como la version con el alias de prod para poder levantarlo en nuestro\n",
    "# proceso de servicio del modelo on-line.\n",
    "client.set_registered_model_alias(name, \"prod\", result.version)"
   ]
  },
  {
   "cell_type": "code",
   "execution_count": 90,
   "metadata": {},
   "outputs": [],
   "source": [
    "def s3_folder_exists(bucket_name, folder_path, endpoint_url=None):\n",
    "    \"\"\"\n",
    "    Check if a folder exists in an S3 bucket.\n",
    "\n",
    "    Parameters:\n",
    "    - bucket_name (str): Name of the S3 bucket.\n",
    "    - folder_path (str): Path to the folder in the bucket (e.g., 'myfolder/').\n",
    "    - endpoint_url (str, optional): Custom endpoint URL for S3 (e.g., MinIO).\n",
    "\n",
    "    Returns:\n",
    "    - bool: True if the folder exists, False otherwise.\n",
    "    \"\"\"\n",
    "    s3 = boto3.client('s3', endpoint_url=endpoint_url, config=Config(signature_version='s3v4'))\n",
    "    response = s3.list_objects_v2(Bucket=bucket_name, Prefix=folder_path, MaxKeys=1)\n",
    "    return 'Contents' in response\n",
    "\n",
    "# Ejemplo de uso:\n",
    "# exists = s3_folder_exists('mi-bucket', 'mi-carpeta/', endpoint_url=os.environ['ENDPOINT_URL'])\n",
    "# print(\"Existe la carpeta:\", exists)"
   ]
  }
 ],
 "metadata": {
  "kernelspec": {
   "display_name": "Fabricio",
   "language": "python",
   "name": "python3"
  },
  "language_info": {
   "codemirror_mode": {
    "name": "ipython",
    "version": 3
   },
   "file_extension": ".py",
   "mimetype": "text/x-python",
   "name": "python",
   "nbconvert_exporter": "python",
   "pygments_lexer": "ipython3",
   "version": "3.10.13"
  }
 },
 "nbformat": 4,
 "nbformat_minor": 2
}
